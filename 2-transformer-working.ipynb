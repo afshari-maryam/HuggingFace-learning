{
  "nbformat": 4,
  "nbformat_minor": 0,
  "metadata": {
    "colab": {
      "provenance": [],
      "authorship_tag": "ABX9TyOclSUAxdGDPY+/LA4q8tmD",
      "include_colab_link": true
    },
    "kernelspec": {
      "name": "python3",
      "display_name": "Python 3"
    },
    "language_info": {
      "name": "python"
    }
  },
  "cells": [
    {
      "cell_type": "markdown",
      "metadata": {
        "id": "view-in-github",
        "colab_type": "text"
      },
      "source": [
        "<a href=\"https://colab.research.google.com/github/afshari-maryam/HuggingFace-learning/blob/main/2-transformer-working.ipynb\" target=\"_parent\"><img src=\"https://colab.research.google.com/assets/colab-badge.svg\" alt=\"Open In Colab\"/></a>"
      ]
    },
    {
      "cell_type": "markdown",
      "source": [
        "Transformer architecture:\n",
        "Attention Is All You Need\n",
        "https://arxiv.org/abs/1706.03762\n"
      ],
      "metadata": {
        "id": "WsNSkNDF4p3d"
      }
    },
    {
      "cell_type": "markdown",
      "source": [
        "*    May 2020, GPT-3, an even bigger version of GPT-2 that is able to perform well on a variety of tasks without the need for fine-tuning (called zero-shot learning)"
      ],
      "metadata": {
        "id": "JLUDVuok5SLt"
      }
    },
    {
      "cell_type": "markdown",
      "source": [
        "This list is far from comprehensive, and is just meant to highlight a few of the different kinds of Transformer models. Broadly, they can be grouped into three categories:\n",
        "\n",
        "* GPT-like (also called auto-regressive Transformer models)\n",
        "* BERT-like (also called auto-encoding Transformer models)\n",
        "* BART/T5-like (also called sequence-to-sequence Transformer models)"
      ],
      "metadata": {
        "id": "xde9cyZB5WYG"
      }
    },
    {
      "cell_type": "markdown",
      "source": [
        "All the Transformer models mentioned above (GPT, BERT, BART, T5, etc.) have been trained as language models. This means they have been trained on large amounts of raw text in a self-supervised fashion. Self-supervised learning is a type of training in which the objective is automatically computed from the inputs of the model. "
      ],
      "metadata": {
        "id": "Xi_OOS5w6BgT"
      }
    },
    {
      "cell_type": "markdown",
      "source": [
        "Each of these parts can be used independently, depending on the task:\n",
        "\n",
        "* Encoder-only models: Good for tasks that require understanding of the input, such as sentence classification and named entity recognition.\n",
        "* Decoder-only models: Good for generative tasks such as text generation.\n",
        "* Encoder-decoder models or sequence-to-sequence models: Good for generative tasks that require an input, such as translation or summarization."
      ],
      "metadata": {
        "id": "ondIZ_fk-bUk"
      }
    },
    {
      "cell_type": "markdown",
      "source": [
        "Transformer Details:\n",
        "https://jalammar.github.io/illustrated-transformer/\n"
      ],
      "metadata": {
        "id": "lVmHGigb_Kb5"
      }
    },
    {
      "cell_type": "code",
      "execution_count": null,
      "metadata": {
        "id": "JHR9NR3gNZRM"
      },
      "outputs": [],
      "source": []
    }
  ]
}